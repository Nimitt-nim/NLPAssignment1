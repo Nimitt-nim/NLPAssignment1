{
 "cells": [
  {
   "cell_type": "code",
   "execution_count": 1,
   "metadata": {},
   "outputs": [],
   "source": [
    "import os\n",
    "import re"
   ]
  },
  {
   "cell_type": "code",
   "execution_count": 2,
   "metadata": {},
   "outputs": [],
   "source": [
    "\n",
    "# Define the directories\n",
    "raw_data_dir = 'NGramsData'\n",
    "sorted_data_dir = 'NGramsSortedData'\n",
    "\n",
    "# Ensure the output directory exists\n",
    "os.makedirs(sorted_data_dir, exist_ok=True)\n",
    "\n",
    "# Get the list of raw files from the 'NGramsData' directory\n",
    "raw_files = [f for f in os.listdir(raw_data_dir) if f.endswith('.raw')]\n",
    "  \n",
    "\n",
    "domains = set()"
   ]
  },
  {
   "cell_type": "code",
   "execution_count": 6,
   "metadata": {},
   "outputs": [
    {
     "ename": "",
     "evalue": "",
     "output_type": "error",
     "traceback": [
      "\u001b[1;31mThe Kernel crashed while executing code in the the current cell or a previous cell. Please review the code in the cell(s) to identify a possible cause of the failure. Click <a href='https://aka.ms/vscodeJupyterKernelCrash'>here</a> for more info. View Jupyter <a href='command:jupyter.viewOutput'>log</a> for further details."
     ]
    },
    {
     "ename": "",
     "evalue": "",
     "output_type": "error",
     "traceback": [
      "\u001b[1;31mCanceled future for execute_request message before replies were done"
     ]
    }
   ],
   "source": [
    "with open(os.path.join(raw_data_dir, raw_files[4]), 'r', encoding='utf-8', errors='replace') as file:\n",
    "    data = file.read()\n",
    "\n",
    "# Regular expression to match URI and the content between the URI and the next URI or the end of the data\n",
    "pattern = re.compile(r\"(uri:(http[^\\s]+)\\s)(.*?)(?=uri:|$)\", re.DOTALL)\n",
    "\n",
    "# Finding all matches\n",
    "matches = pattern.findall(data)\n",
    "# Creating separate files for each match\n",
    "for match in matches:\n",
    "    uri = match[1]  # Extract the URI\n",
    "    content = match[2]  # Extract the content\n",
    "\n",
    "    # Use regex to extract the part of the URI between '//' and the next '/'\n",
    "    domain_pattern = re.search(r'//([^/]+)/', uri)\n",
    "    if domain_pattern:\n",
    "        domain = domain_pattern.group(1)  # Extract the domain between // and /\n",
    "        domains.add(domain)\n",
    "\n",
    "        # Convert domain to a valid filename (replace illegal characters with underscores)\n",
    "        filename = re.sub(r'[^\\w]', '_', domain) + '.txt'\n",
    "        \n",
    "        # Save content to the corresponding file within the sorted data directory\n",
    "        with open(os.path.join(sorted_data_dir, filename), 'a', encoding='utf-8') as f:\n",
    "            f.write('\\n---------------------------\\n')\n",
    "            f.write(content)\n",
    "            f.write('\\n---------------------------\\n')\n",
    "\n",
    "\n",
    "print(\"Processing completed.\")"
   ]
  },
  {
   "cell_type": "code",
   "execution_count": null,
   "metadata": {},
   "outputs": [],
   "source": [
    "0 1 2 "
   ]
  },
  {
   "cell_type": "code",
   "execution_count": null,
   "metadata": {},
   "outputs": [],
   "source": []
  }
 ],
 "metadata": {
  "kernelspec": {
   "display_name": "Python 3",
   "language": "python",
   "name": "python3"
  },
  "language_info": {
   "codemirror_mode": {
    "name": "ipython",
    "version": 3
   },
   "file_extension": ".py",
   "mimetype": "text/x-python",
   "name": "python",
   "nbconvert_exporter": "python",
   "pygments_lexer": "ipython3",
   "version": "3.11.1 (v3.11.1:a7a450f84a, Dec  6 2022, 15:24:06) [Clang 13.0.0 (clang-1300.0.29.30)]"
  },
  "orig_nbformat": 4,
  "vscode": {
   "interpreter": {
    "hash": "aee8b7b246df8f9039afb4144a1f6fd8d2ca17a180786b69acc140d282b71a49"
   }
  }
 },
 "nbformat": 4,
 "nbformat_minor": 2
}
